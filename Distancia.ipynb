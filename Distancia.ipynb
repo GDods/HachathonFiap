{
 "cells": [
  {
   "cell_type": "code",
   "execution_count": 1,
   "metadata": {},
   "outputs": [],
   "source": [
    "import pandas as pd"
   ]
  },
  {
   "cell_type": "code",
   "execution_count": 2,
   "metadata": {},
   "outputs": [
    {
     "name": "stdout",
     "output_type": "stream",
     "text": [
      "<class 'pandas.core.frame.DataFrame'>\n",
      "RangeIndex: 5345 entries, 0 to 5344\n",
      "Data columns (total 4 columns):\n",
      " #   Column     Non-Null Count  Dtype \n",
      "---  ------     --------------  ----- \n",
      " 0   MATRÍCULA  5345 non-null   int64 \n",
      " 1   end        5345 non-null   object\n",
      " 2   LAT        5345 non-null   object\n",
      " 3   LNG        5345 non-null   object\n",
      "dtypes: int64(1), object(3)\n",
      "memory usage: 167.2+ KB\n"
     ]
    }
   ],
   "source": [
    "df_func = pd.read_csv(r'BD Tratado\\func.csv', sep = ';')\n",
    "df_func.info()"
   ]
  },
  {
   "cell_type": "code",
   "execution_count": 3,
   "metadata": {},
   "outputs": [
    {
     "name": "stdout",
     "output_type": "stream",
     "text": [
      "<class 'pandas.core.frame.DataFrame'>\n",
      "RangeIndex: 5456 entries, 0 to 5455\n",
      "Data columns (total 4 columns):\n",
      " #   Column     Non-Null Count  Dtype \n",
      "---  ------     --------------  ----- \n",
      " 0   MATRÍCULA  5456 non-null   int64 \n",
      " 1   end        5456 non-null   object\n",
      " 2   LAT        5456 non-null   object\n",
      " 3   LNG        5456 non-null   object\n",
      "dtypes: int64(1), object(3)\n",
      "memory usage: 170.6+ KB\n"
     ]
    }
   ],
   "source": [
    "df_pess = pd.read_csv(r'BD Tratado\\pess.csv', sep = ';')\n",
    "df_pess.info()"
   ]
  },
  {
   "cell_type": "code",
   "execution_count": 6,
   "metadata": {},
   "outputs": [
    {
     "data": {
      "text/html": [
       "<div>\n",
       "<style scoped>\n",
       "    .dataframe tbody tr th:only-of-type {\n",
       "        vertical-align: middle;\n",
       "    }\n",
       "\n",
       "    .dataframe tbody tr th {\n",
       "        vertical-align: top;\n",
       "    }\n",
       "\n",
       "    .dataframe thead th {\n",
       "        text-align: right;\n",
       "    }\n",
       "</style>\n",
       "<table border=\"1\" class=\"dataframe\">\n",
       "  <thead>\n",
       "    <tr style=\"text-align: right;\">\n",
       "      <th></th>\n",
       "      <th>MATRÍCULA</th>\n",
       "      <th>end_trabalho</th>\n",
       "      <th>LAT_trabalho</th>\n",
       "      <th>LNG_trabalho</th>\n",
       "      <th>end_residencia</th>\n",
       "      <th>LAT_residencia</th>\n",
       "      <th>LNG_residencia</th>\n",
       "    </tr>\n",
       "  </thead>\n",
       "  <tbody>\n",
       "    <tr>\n",
       "      <th>0</th>\n",
       "      <td>10438</td>\n",
       "      <td>AVENIDA NAÇÕES UNIDAS - 8º ANDAR, 7815 - PINHE...</td>\n",
       "      <td>-23.563.578.699.999.900</td>\n",
       "      <td>-46.691.606.799.999.900</td>\n",
       "      <td>RUA Andre Casado, 315 Cpos da Escolastica São ...</td>\n",
       "      <td>-235.413.123</td>\n",
       "      <td>-466.895.501</td>\n",
       "    </tr>\n",
       "    <tr>\n",
       "      <th>1</th>\n",
       "      <td>10515</td>\n",
       "      <td>RUA NORMA PIERUCCINI GIANNOTTI, 327 - BARRA FU...</td>\n",
       "      <td>-235.233.334</td>\n",
       "      <td>-466.536.948</td>\n",
       "      <td>RUA Expedito Rezende L, 12 - Q C Centro Rio de...</td>\n",
       "      <td>-22.864.110.500.000.000</td>\n",
       "      <td>-434.760.257</td>\n",
       "    </tr>\n",
       "    <tr>\n",
       "      <th>2</th>\n",
       "      <td>10479</td>\n",
       "      <td>Rua Alexandre Dumas, 2200 - Chacara Santo Anto...</td>\n",
       "      <td>-236.276.441</td>\n",
       "      <td>-46.710.724.600.000.000</td>\n",
       "      <td>RUA José Amancio Ferreira, 27 Jardim Kuabara T...</td>\n",
       "      <td>-236.044.922</td>\n",
       "      <td>-467.562.979</td>\n",
       "    </tr>\n",
       "    <tr>\n",
       "      <th>3</th>\n",
       "      <td>10393</td>\n",
       "      <td>RUA NORMA PIERUCCINI GIANNOTTI, 327 - BARRA FU...</td>\n",
       "      <td>-235.233.334</td>\n",
       "      <td>-466.536.948</td>\n",
       "      <td>RUA Gal Auto, 165/705 - 165/705 Cidade Baixa P...</td>\n",
       "      <td>-30.034.864.199.999.900</td>\n",
       "      <td>-512.318.436</td>\n",
       "    </tr>\n",
       "    <tr>\n",
       "      <th>4</th>\n",
       "      <td>11879</td>\n",
       "      <td>RUA NORMA PIERUCCINI GIANNOTTI, 327 - BARRA FU...</td>\n",
       "      <td>-235.233.334</td>\n",
       "      <td>-466.536.948</td>\n",
       "      <td>RUA Alvaro Gonçalves Jr, 330 - Bl B Ap 08 Parq...</td>\n",
       "      <td>-232.251.392</td>\n",
       "      <td>-459.032.981</td>\n",
       "    </tr>\n",
       "  </tbody>\n",
       "</table>\n",
       "</div>"
      ],
      "text/plain": [
       "   MATRÍCULA                                       end_trabalho  \\\n",
       "0      10438  AVENIDA NAÇÕES UNIDAS - 8º ANDAR, 7815 - PINHE...   \n",
       "1      10515  RUA NORMA PIERUCCINI GIANNOTTI, 327 - BARRA FU...   \n",
       "2      10479  Rua Alexandre Dumas, 2200 - Chacara Santo Anto...   \n",
       "3      10393  RUA NORMA PIERUCCINI GIANNOTTI, 327 - BARRA FU...   \n",
       "4      11879  RUA NORMA PIERUCCINI GIANNOTTI, 327 - BARRA FU...   \n",
       "\n",
       "              LAT_trabalho             LNG_trabalho  \\\n",
       "0  -23.563.578.699.999.900  -46.691.606.799.999.900   \n",
       "1             -235.233.334             -466.536.948   \n",
       "2             -236.276.441  -46.710.724.600.000.000   \n",
       "3             -235.233.334             -466.536.948   \n",
       "4             -235.233.334             -466.536.948   \n",
       "\n",
       "                                      end_residencia           LAT_residencia  \\\n",
       "0  RUA Andre Casado, 315 Cpos da Escolastica São ...             -235.413.123   \n",
       "1  RUA Expedito Rezende L, 12 - Q C Centro Rio de...  -22.864.110.500.000.000   \n",
       "2  RUA José Amancio Ferreira, 27 Jardim Kuabara T...             -236.044.922   \n",
       "3  RUA Gal Auto, 165/705 - 165/705 Cidade Baixa P...  -30.034.864.199.999.900   \n",
       "4  RUA Alvaro Gonçalves Jr, 330 - Bl B Ap 08 Parq...             -232.251.392   \n",
       "\n",
       "  LNG_residencia  \n",
       "0   -466.895.501  \n",
       "1   -434.760.257  \n",
       "2   -467.562.979  \n",
       "3   -512.318.436  \n",
       "4   -459.032.981  "
      ]
     },
     "execution_count": 6,
     "metadata": {},
     "output_type": "execute_result"
    }
   ],
   "source": [
    "df_dist = df_func.merge(df_pess, how = 'inner', on = 'MATRÍCULA', suffixes=('_trabalho', '_residencia'))\n",
    "df_dist.head()"
   ]
  },
  {
   "cell_type": "code",
   "execution_count": null,
   "metadata": {},
   "outputs": [],
   "source": []
  }
 ],
 "metadata": {
  "kernelspec": {
   "display_name": "Python 3",
   "language": "python",
   "name": "python3"
  },
  "language_info": {
   "codemirror_mode": {
    "name": "ipython",
    "version": 3
   },
   "file_extension": ".py",
   "mimetype": "text/x-python",
   "name": "python",
   "nbconvert_exporter": "python",
   "pygments_lexer": "ipython3",
   "version": "3.7.9"
  }
 },
 "nbformat": 4,
 "nbformat_minor": 4
}
