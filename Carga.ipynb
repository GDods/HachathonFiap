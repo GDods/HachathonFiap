{
 "cells": [
  {
   "cell_type": "code",
   "execution_count": 20,
   "metadata": {},
   "outputs": [],
   "source": [
    "import pandas as pd\n",
    "from tqdm import tqdm"
   ]
  },
  {
   "cell_type": "code",
   "execution_count": 21,
   "metadata": {},
   "outputs": [],
   "source": [
    "df = pd.DataFrame()\n",
    "abas = ['01-2020','02-2020','03-2020','04-2020','05-2020','06-2020','07-2020','08-2020','09-2020','10-2020','11-2020','12-2020','01-2021']"
   ]
  },
  {
   "cell_type": "code",
   "execution_count": 22,
   "metadata": {},
   "outputs": [
    {
     "name": "stderr",
     "output_type": "stream",
     "text": [
      "100%|██████████████████████████████████████████████████████████████████████████████████| 13/13 [02:04<00:00,  9.55s/it]\n"
     ]
    }
   ],
   "source": [
    "for aba in tqdm(abas):\n",
    "    df = df.append(pd.read_excel(r'BD\\Dados Vivante Ponto.xlsx', sheet_name = aba))"
   ]
  },
  {
   "cell_type": "code",
   "execution_count": 23,
   "metadata": {},
   "outputs": [
    {
     "data": {
      "text/html": [
       "<div>\n",
       "<style scoped>\n",
       "    .dataframe tbody tr th:only-of-type {\n",
       "        vertical-align: middle;\n",
       "    }\n",
       "\n",
       "    .dataframe tbody tr th {\n",
       "        vertical-align: top;\n",
       "    }\n",
       "\n",
       "    .dataframe thead th {\n",
       "        text-align: right;\n",
       "    }\n",
       "</style>\n",
       "<table border=\"1\" class=\"dataframe\">\n",
       "  <thead>\n",
       "    <tr style=\"text-align: right;\">\n",
       "      <th></th>\n",
       "      <th>MATRÍCULA</th>\n",
       "      <th>DATA</th>\n",
       "      <th>TIPO DO DIA</th>\n",
       "      <th>CRG. HOR. DIA</th>\n",
       "      <th>HORAS NORMAIS</th>\n",
       "      <th>H.EXTRAS COMP.</th>\n",
       "      <th>H.EXTRAS PAGAS</th>\n",
       "      <th>H.EXTRAS BH</th>\n",
       "      <th>H.EXTRAS NÃO AUT.</th>\n",
       "      <th>HORAS HNT COMP.</th>\n",
       "      <th>HORAS ABONADAS</th>\n",
       "      <th>HORAS DESCONTADAS</th>\n",
       "      <th>HORAS DEB. BH</th>\n",
       "    </tr>\n",
       "  </thead>\n",
       "  <tbody>\n",
       "    <tr>\n",
       "      <th>0</th>\n",
       "      <td>90293</td>\n",
       "      <td>2020-01-02</td>\n",
       "      <td>Normal</td>\n",
       "      <td>07:48</td>\n",
       "      <td>07:48</td>\n",
       "      <td>00:00</td>\n",
       "      <td>00:00</td>\n",
       "      <td>00:00</td>\n",
       "      <td>00:06</td>\n",
       "      <td>00:00</td>\n",
       "      <td>00:00</td>\n",
       "      <td>00:00</td>\n",
       "      <td>00:00</td>\n",
       "    </tr>\n",
       "    <tr>\n",
       "      <th>1</th>\n",
       "      <td>90293</td>\n",
       "      <td>2020-01-03</td>\n",
       "      <td>Normal</td>\n",
       "      <td>07:48</td>\n",
       "      <td>07:48</td>\n",
       "      <td>00:00</td>\n",
       "      <td>00:00</td>\n",
       "      <td>00:00</td>\n",
       "      <td>00:09</td>\n",
       "      <td>00:00</td>\n",
       "      <td>00:00</td>\n",
       "      <td>00:00</td>\n",
       "      <td>00:00</td>\n",
       "    </tr>\n",
       "    <tr>\n",
       "      <th>2</th>\n",
       "      <td>90293</td>\n",
       "      <td>2020-01-04</td>\n",
       "      <td>Normal</td>\n",
       "      <td>05:00</td>\n",
       "      <td>05:00</td>\n",
       "      <td>00:00</td>\n",
       "      <td>00:00</td>\n",
       "      <td>00:00</td>\n",
       "      <td>00:04</td>\n",
       "      <td>00:00</td>\n",
       "      <td>00:00</td>\n",
       "      <td>00:00</td>\n",
       "      <td>00:00</td>\n",
       "    </tr>\n",
       "    <tr>\n",
       "      <th>3</th>\n",
       "      <td>200400</td>\n",
       "      <td>2020-01-02</td>\n",
       "      <td>Normal</td>\n",
       "      <td>08:00</td>\n",
       "      <td>08:00</td>\n",
       "      <td>00:00</td>\n",
       "      <td>00:00</td>\n",
       "      <td>00:00</td>\n",
       "      <td>00:03</td>\n",
       "      <td>00:00</td>\n",
       "      <td>00:00</td>\n",
       "      <td>00:00</td>\n",
       "      <td>00:00</td>\n",
       "    </tr>\n",
       "    <tr>\n",
       "      <th>4</th>\n",
       "      <td>200400</td>\n",
       "      <td>2020-01-03</td>\n",
       "      <td>Normal</td>\n",
       "      <td>08:00</td>\n",
       "      <td>08:00</td>\n",
       "      <td>00:00</td>\n",
       "      <td>00:00</td>\n",
       "      <td>00:00</td>\n",
       "      <td>00:01</td>\n",
       "      <td>00:00</td>\n",
       "      <td>00:00</td>\n",
       "      <td>00:00</td>\n",
       "      <td>00:00</td>\n",
       "    </tr>\n",
       "  </tbody>\n",
       "</table>\n",
       "</div>"
      ],
      "text/plain": [
       "   MATRÍCULA       DATA TIPO DO DIA CRG. HOR. DIA HORAS NORMAIS  \\\n",
       "0      90293 2020-01-02      Normal         07:48         07:48   \n",
       "1      90293 2020-01-03      Normal         07:48         07:48   \n",
       "2      90293 2020-01-04      Normal         05:00         05:00   \n",
       "3     200400 2020-01-02      Normal         08:00         08:00   \n",
       "4     200400 2020-01-03      Normal         08:00         08:00   \n",
       "\n",
       "  H.EXTRAS COMP. H.EXTRAS PAGAS H.EXTRAS BH H.EXTRAS NÃO AUT. HORAS HNT COMP.  \\\n",
       "0          00:00          00:00       00:00             00:06           00:00   \n",
       "1          00:00          00:00       00:00             00:09           00:00   \n",
       "2          00:00          00:00       00:00             00:04           00:00   \n",
       "3          00:00          00:00       00:00             00:03           00:00   \n",
       "4          00:00          00:00       00:00             00:01           00:00   \n",
       "\n",
       "  HORAS ABONADAS HORAS DESCONTADAS HORAS DEB. BH  \n",
       "0          00:00             00:00         00:00  \n",
       "1          00:00             00:00         00:00  \n",
       "2          00:00             00:00         00:00  \n",
       "3          00:00             00:00         00:00  \n",
       "4          00:00             00:00         00:00  "
      ]
     },
     "execution_count": 23,
     "metadata": {},
     "output_type": "execute_result"
    }
   ],
   "source": [
    "df.head()"
   ]
  },
  {
   "cell_type": "code",
   "execution_count": 24,
   "metadata": {},
   "outputs": [
    {
     "name": "stdout",
     "output_type": "stream",
     "text": [
      "<class 'pandas.core.frame.DataFrame'>\n",
      "Int64Index: 1044436 entries, 0 to 87494\n",
      "Data columns (total 13 columns):\n",
      " #   Column             Non-Null Count    Dtype         \n",
      "---  ------             --------------    -----         \n",
      " 0   MATRÍCULA          1044436 non-null  int64         \n",
      " 1   DATA               1044436 non-null  datetime64[ns]\n",
      " 2   TIPO DO DIA        1044436 non-null  object        \n",
      " 3   CRG. HOR. DIA      1022820 non-null  object        \n",
      " 4   HORAS NORMAIS      1044436 non-null  object        \n",
      " 5   H.EXTRAS COMP.     1044436 non-null  object        \n",
      " 6   H.EXTRAS PAGAS     1044436 non-null  object        \n",
      " 7   H.EXTRAS BH        1044436 non-null  object        \n",
      " 8   H.EXTRAS NÃO AUT.  1044436 non-null  object        \n",
      " 9   HORAS HNT COMP.    1044436 non-null  object        \n",
      " 10  HORAS ABONADAS     1044436 non-null  object        \n",
      " 11  HORAS DESCONTADAS  1044436 non-null  object        \n",
      " 12  HORAS DEB. BH      1044436 non-null  object        \n",
      "dtypes: datetime64[ns](1), int64(1), object(11)\n",
      "memory usage: 111.6+ MB\n"
     ]
    }
   ],
   "source": [
    "df.info()"
   ]
  },
  {
   "cell_type": "code",
   "execution_count": 25,
   "metadata": {},
   "outputs": [
    {
     "data": {
      "text/html": [
       "<div>\n",
       "<style scoped>\n",
       "    .dataframe tbody tr th:only-of-type {\n",
       "        vertical-align: middle;\n",
       "    }\n",
       "\n",
       "    .dataframe tbody tr th {\n",
       "        vertical-align: top;\n",
       "    }\n",
       "\n",
       "    .dataframe thead th {\n",
       "        text-align: right;\n",
       "    }\n",
       "</style>\n",
       "<table border=\"1\" class=\"dataframe\">\n",
       "  <thead>\n",
       "    <tr style=\"text-align: right;\">\n",
       "      <th></th>\n",
       "      <th>MATRÍCULA</th>\n",
       "      <th>DATA</th>\n",
       "      <th>CRG. HOR. DIA</th>\n",
       "    </tr>\n",
       "  </thead>\n",
       "  <tbody>\n",
       "    <tr>\n",
       "      <th>69833</th>\n",
       "      <td>234831</td>\n",
       "      <td>2021-01-31</td>\n",
       "      <td>07:20</td>\n",
       "    </tr>\n",
       "    <tr>\n",
       "      <th>25953</th>\n",
       "      <td>227499</td>\n",
       "      <td>2021-01-31</td>\n",
       "      <td>07:20</td>\n",
       "    </tr>\n",
       "    <tr>\n",
       "      <th>26212</th>\n",
       "      <td>227528</td>\n",
       "      <td>2021-01-31</td>\n",
       "      <td>07:00</td>\n",
       "    </tr>\n",
       "    <tr>\n",
       "      <th>86076</th>\n",
       "      <td>235891</td>\n",
       "      <td>2021-01-31</td>\n",
       "      <td>NaN</td>\n",
       "    </tr>\n",
       "    <tr>\n",
       "      <th>26293</th>\n",
       "      <td>227558</td>\n",
       "      <td>2021-01-31</td>\n",
       "      <td>08:48</td>\n",
       "    </tr>\n",
       "  </tbody>\n",
       "</table>\n",
       "</div>"
      ],
      "text/plain": [
       "       MATRÍCULA       DATA CRG. HOR. DIA\n",
       "69833     234831 2021-01-31         07:20\n",
       "25953     227499 2021-01-31         07:20\n",
       "26212     227528 2021-01-31         07:00\n",
       "86076     235891 2021-01-31           NaN\n",
       "26293     227558 2021-01-31         08:48"
      ]
     },
     "execution_count": 25,
     "metadata": {},
     "output_type": "execute_result"
    }
   ],
   "source": [
    "df_carga = df.sort_values('DATA', ascending = False)\n",
    "df_carga = df_carga.drop_duplicates(subset=['MATRÍCULA', 'CRG. HOR. DIA'])\n",
    "df_carga = df_carga[['MATRÍCULA', 'DATA', 'CRG. HOR. DIA']]\n",
    "df_carga.head()"
   ]
  },
  {
   "cell_type": "code",
   "execution_count": 28,
   "metadata": {},
   "outputs": [
    {
     "data": {
      "text/plain": [
       "(17593, 3)"
      ]
     },
     "execution_count": 28,
     "metadata": {},
     "output_type": "execute_result"
    }
   ],
   "source": [
    "df_carga.shape"
   ]
  },
  {
   "cell_type": "code",
   "execution_count": 27,
   "metadata": {},
   "outputs": [],
   "source": [
    "df_carga.to_csv(r'BD Tratado\\carga.csv', sep = ';',index=False)"
   ]
  },
  {
   "cell_type": "code",
   "execution_count": null,
   "metadata": {},
   "outputs": [],
   "source": []
  }
 ],
 "metadata": {
  "kernelspec": {
   "display_name": "Python 3",
   "language": "python",
   "name": "python3"
  },
  "language_info": {
   "codemirror_mode": {
    "name": "ipython",
    "version": 3
   },
   "file_extension": ".py",
   "mimetype": "text/x-python",
   "name": "python",
   "nbconvert_exporter": "python",
   "pygments_lexer": "ipython3",
   "version": "3.7.9"
  }
 },
 "nbformat": 4,
 "nbformat_minor": 4
}
