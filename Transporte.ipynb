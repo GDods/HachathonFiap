{
 "cells": [
  {
   "cell_type": "code",
   "execution_count": 5,
   "metadata": {},
   "outputs": [],
   "source": [
    "import pandas as pd\n",
    "import numpy as np"
   ]
  },
  {
   "cell_type": "code",
   "execution_count": 8,
   "metadata": {},
   "outputs": [
    {
     "name": "stdout",
     "output_type": "stream",
     "text": [
      "<class 'pandas.core.frame.DataFrame'>\n",
      "RangeIndex: 5918 entries, 0 to 5917\n",
      "Data columns (total 5 columns):\n",
      " #   Column            Non-Null Count  Dtype         \n",
      "---  ------            --------------  -----         \n",
      " 0   MATRÍCULA         5918 non-null   int64         \n",
      " 1   TRANSPORTE        5918 non-null   object        \n",
      " 2   INÍCIO VALIDADE   5918 non-null   datetime64[ns]\n",
      " 3   NÚM. VIAGENS DIA  5918 non-null   int64         \n",
      " 4   VALOR POR VIAGEM  5918 non-null   float64       \n",
      "dtypes: datetime64[ns](1), float64(1), int64(2), object(1)\n",
      "memory usage: 231.3+ KB\n"
     ]
    }
   ],
   "source": [
    "df_transporte = pd.read_excel(r'BD\\Dados Vivante Funcionários.xlsx', sheet_name='TRANSPORTE')\n",
    "df_transporte.info()"
   ]
  },
  {
   "cell_type": "code",
   "execution_count": 12,
   "metadata": {},
   "outputs": [
    {
     "data": {
      "text/html": [
       "<div>\n",
       "<style scoped>\n",
       "    .dataframe tbody tr th:only-of-type {\n",
       "        vertical-align: middle;\n",
       "    }\n",
       "\n",
       "    .dataframe tbody tr th {\n",
       "        vertical-align: top;\n",
       "    }\n",
       "\n",
       "    .dataframe thead th {\n",
       "        text-align: right;\n",
       "    }\n",
       "</style>\n",
       "<table border=\"1\" class=\"dataframe\">\n",
       "  <thead>\n",
       "    <tr style=\"text-align: right;\">\n",
       "      <th></th>\n",
       "      <th>MATRÍCULA</th>\n",
       "      <th>NÚM. VIAGENS DIA</th>\n",
       "      <th>VALOR POR VIAGEM</th>\n",
       "      <th>DATA</th>\n",
       "      <th>DATA FIM</th>\n",
       "    </tr>\n",
       "  </thead>\n",
       "  <tbody>\n",
       "    <tr>\n",
       "      <th>0</th>\n",
       "      <td>2781</td>\n",
       "      <td>2</td>\n",
       "      <td>2.30</td>\n",
       "      <td>2011-06-01</td>\n",
       "      <td>2021-04-30</td>\n",
       "    </tr>\n",
       "    <tr>\n",
       "      <th>1</th>\n",
       "      <td>3108</td>\n",
       "      <td>4</td>\n",
       "      <td>5.65</td>\n",
       "      <td>2018-01-17</td>\n",
       "      <td>2021-04-30</td>\n",
       "    </tr>\n",
       "    <tr>\n",
       "      <th>2</th>\n",
       "      <td>3143</td>\n",
       "      <td>2</td>\n",
       "      <td>4.50</td>\n",
       "      <td>2014-11-05</td>\n",
       "      <td>2020-04-02</td>\n",
       "    </tr>\n",
       "    <tr>\n",
       "      <th>3</th>\n",
       "      <td>3143</td>\n",
       "      <td>2</td>\n",
       "      <td>6.35</td>\n",
       "      <td>2020-04-02</td>\n",
       "      <td>2021-04-30</td>\n",
       "    </tr>\n",
       "    <tr>\n",
       "      <th>12</th>\n",
       "      <td>10027</td>\n",
       "      <td>4</td>\n",
       "      <td>4.83</td>\n",
       "      <td>2011-06-01</td>\n",
       "      <td>2021-04-30</td>\n",
       "    </tr>\n",
       "  </tbody>\n",
       "</table>\n",
       "</div>"
      ],
      "text/plain": [
       "    MATRÍCULA  NÚM. VIAGENS DIA  VALOR POR VIAGEM       DATA   DATA FIM\n",
       "0        2781                 2              2.30 2011-06-01 2021-04-30\n",
       "1        3108                 4              5.65 2018-01-17 2021-04-30\n",
       "2        3143                 2              4.50 2014-11-05 2020-04-02\n",
       "3        3143                 2              6.35 2020-04-02 2021-04-30\n",
       "12      10027                 4              4.83 2011-06-01 2021-04-30"
      ]
     },
     "execution_count": 12,
     "metadata": {},
     "output_type": "execute_result"
    }
   ],
   "source": [
    "df_transporte = df_transporte.sort_values(['MATRÍCULA', 'INÍCIO VALIDADE'])\n",
    "df_transporte['DATA'] = df_transporte['INÍCIO VALIDADE'].astype(str)\n",
    "df_transporte['DATA FIM'] = np.where(df_transporte['MATRÍCULA'].shift(-1) == df_transporte['MATRÍCULA'], df_transporte['DATA'].shift(-1), '2021-04-30')\n",
    "df_transporte['DATA FIM'] = pd.to_datetime(df_transporte['DATA FIM'])\n",
    "df_transporte['DATA'] = pd.to_datetime(df_transporte['DATA'])\n",
    "df_transporte = df_transporte.drop(['INÍCIO VALIDADE','TRANSPORTE'], axis=1)\n",
    "df_transporte.head()"
   ]
  },
  {
   "cell_type": "code",
   "execution_count": 14,
   "metadata": {},
   "outputs": [],
   "source": [
    "df_transporte.to_csv(r'BD Tratado\\Transp.csv',sep=';',index=False)"
   ]
  },
  {
   "cell_type": "code",
   "execution_count": null,
   "metadata": {},
   "outputs": [],
   "source": []
  }
 ],
 "metadata": {
  "kernelspec": {
   "display_name": "Python 3",
   "language": "python",
   "name": "python3"
  },
  "language_info": {
   "codemirror_mode": {
    "name": "ipython",
    "version": 3
   },
   "file_extension": ".py",
   "mimetype": "text/x-python",
   "name": "python",
   "nbconvert_exporter": "python",
   "pygments_lexer": "ipython3",
   "version": "3.7.9"
  }
 },
 "nbformat": 4,
 "nbformat_minor": 4
}
