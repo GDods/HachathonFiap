{
 "cells": [
  {
   "cell_type": "code",
   "execution_count": 1,
   "metadata": {},
   "outputs": [],
   "source": [
    "import pandas as pd\n",
    "import numpy as np\n",
    "\n",
    "import matplotlib.pyplot as plt\n",
    "import seaborn as sns\n",
    "\n",
    "from tqdm import tqdm\n",
    "\n",
    "from sklearn.preprocessing import MinMaxScaler, StandardScaler\n",
    "from sklearn.cluster import KMeans, DBSCAN\n",
    "from sklearn.metrics import silhouette_score\n",
    "import sklearn.metrics as sm\n",
    "from sklearn.neighbors import NearestNeighbors\n"
   ]
  },
  {
   "cell_type": "code",
   "execution_count": 2,
   "metadata": {},
   "outputs": [
    {
     "name": "stdout",
     "output_type": "stream",
     "text": [
      "<class 'pandas.core.frame.DataFrame'>\n",
      "RangeIndex: 35862 entries, 0 to 35861\n",
      "Data columns (total 53 columns):\n",
      " #   Column                    Non-Null Count  Dtype  \n",
      "---  ------                    --------------  -----  \n",
      " 0   MATRÍCULA                 35862 non-null  int64  \n",
      " 1   ATRASO                    35862 non-null  float64\n",
      " 2   Carga                     35862 non-null  float64\n",
      " 3   Tempo de casa             35862 non-null  float64\n",
      " 4   SALÁRIO                   35862 non-null  float64\n",
      " 5   SO                        35862 non-null  float64\n",
      " 6   SX                        35862 non-null  float64\n",
      " 7   MANUAL                    35862 non-null  float64\n",
      " 8   dist                      35862 non-null  float64\n",
      " 9   HORÁRIO INÍCIO            35862 non-null  float64\n",
      " 10  HORÁRIO FINAL             35862 non-null  float64\n",
      " 11  DiaSemana                 35862 non-null  int64  \n",
      " 12  DiaSemana_0               35862 non-null  int64  \n",
      " 13  DiaSemana_1               35862 non-null  int64  \n",
      " 14  DiaSemana_2               35862 non-null  int64  \n",
      " 15  DiaSemana_3               35862 non-null  int64  \n",
      " 16  DiaSemana_4               35862 non-null  int64  \n",
      " 17  DiaSemana_5               35862 non-null  int64  \n",
      " 18  DiaSemana_6               35862 non-null  int64  \n",
      " 19  Mes                       35862 non-null  int64  \n",
      " 20  Mes_1                     35862 non-null  int64  \n",
      " 21  Mes_2                     35862 non-null  int64  \n",
      " 22  Mes_3                     35862 non-null  int64  \n",
      " 23  Mes_4                     35862 non-null  int64  \n",
      " 24  Mes_5                     35862 non-null  int64  \n",
      " 25  Mes_6                     35862 non-null  int64  \n",
      " 26  Mes_7                     35862 non-null  int64  \n",
      " 27  Mes_8                     35862 non-null  int64  \n",
      " 28  Mes_9                     35862 non-null  int64  \n",
      " 29  Mes_10                    35862 non-null  int64  \n",
      " 30  Mes_11                    35862 non-null  int64  \n",
      " 31  Mes_12                    35862 non-null  int64  \n",
      " 32  SalarioMin                35862 non-null  float64\n",
      " 33  SINDICATO_SCABEL          35862 non-null  int64  \n",
      " 34  SINDICATO_SEACONS         35862 non-null  int64  \n",
      " 35  SINDICATO_SEEAC           35862 non-null  int64  \n",
      " 36  SINDICATO_SEMAPI          35862 non-null  int64  \n",
      " 37  SINDICATO_SIEMACO         35862 non-null  int64  \n",
      " 38  SINDICATO_SIEMACO         35862 non-null  int64  \n",
      " 39  SINDICATO_SINDA           35862 non-null  int64  \n",
      " 40  SINDICATO_SINDEAC         35862 non-null  int64  \n",
      " 41  SINDICATO_SINDEEPRES      35862 non-null  int64  \n",
      " 42  SINDICATO_SINDIASSEIO     35862 non-null  int64  \n",
      " 43  SINDICATO_SINDIBOMBEIROS  35862 non-null  int64  \n",
      " 44  SINDICATO_SINDICOVI       35862 non-null  int64  \n",
      " 45  SINDICATO_SINDILIMP       35862 non-null  int64  \n",
      " 46  SINDICATO_SINDISERVICOS   35862 non-null  int64  \n",
      " 47  SINDICATO_SINEEPRES       35862 non-null  int64  \n",
      " 48  SINDICATO_SINETH          35862 non-null  int64  \n",
      " 49  SINDICATO_SINETUR         35862 non-null  int64  \n",
      " 50  SINDICATO_SINTACLUNS      35862 non-null  int64  \n",
      " 51  SINDICATO_SINTE           35862 non-null  int64  \n",
      " 52  SINDICATO_SITRAM          35862 non-null  int64  \n",
      "dtypes: float64(11), int64(42)\n",
      "memory usage: 14.5 MB\n"
     ]
    }
   ],
   "source": [
    "df_org = pd.read_csv(r'BD Tratado\\VariaveisValidadas.csv',sep=';')\n",
    "df_org.info()"
   ]
  },
  {
   "cell_type": "code",
   "execution_count": 3,
   "metadata": {},
   "outputs": [
    {
     "name": "stdout",
     "output_type": "stream",
     "text": [
      "<class 'pandas.core.frame.DataFrame'>\n",
      "RangeIndex: 35862 entries, 0 to 35861\n",
      "Data columns (total 25 columns):\n",
      " #   Column                    Non-Null Count  Dtype  \n",
      "---  ------                    --------------  -----  \n",
      " 0   ATRASO                    35862 non-null  float64\n",
      " 1   Carga                     35862 non-null  float64\n",
      " 2   Tempo de casa             35862 non-null  float64\n",
      " 3   SALÁRIO                   35862 non-null  float64\n",
      " 4   dist                      35862 non-null  float64\n",
      " 5   SINDICATO_SCABEL          35862 non-null  int64  \n",
      " 6   SINDICATO_SEACONS         35862 non-null  int64  \n",
      " 7   SINDICATO_SEEAC           35862 non-null  int64  \n",
      " 8   SINDICATO_SEMAPI          35862 non-null  int64  \n",
      " 9   SINDICATO_SIEMACO         35862 non-null  int64  \n",
      " 10  SINDICATO_SIEMACO         35862 non-null  int64  \n",
      " 11  SINDICATO_SINDA           35862 non-null  int64  \n",
      " 12  SINDICATO_SINDEAC         35862 non-null  int64  \n",
      " 13  SINDICATO_SINDEEPRES      35862 non-null  int64  \n",
      " 14  SINDICATO_SINDIASSEIO     35862 non-null  int64  \n",
      " 15  SINDICATO_SINDIBOMBEIROS  35862 non-null  int64  \n",
      " 16  SINDICATO_SINDICOVI       35862 non-null  int64  \n",
      " 17  SINDICATO_SINDILIMP       35862 non-null  int64  \n",
      " 18  SINDICATO_SINDISERVICOS   35862 non-null  int64  \n",
      " 19  SINDICATO_SINEEPRES       35862 non-null  int64  \n",
      " 20  SINDICATO_SINETH          35862 non-null  int64  \n",
      " 21  SINDICATO_SINETUR         35862 non-null  int64  \n",
      " 22  SINDICATO_SINTACLUNS      35862 non-null  int64  \n",
      " 23  SINDICATO_SINTE           35862 non-null  int64  \n",
      " 24  SINDICATO_SITRAM          35862 non-null  int64  \n",
      "dtypes: float64(5), int64(20)\n",
      "memory usage: 6.8 MB\n"
     ]
    }
   ],
   "source": [
    "df_cluster = df_org.drop(['MATRÍCULA', 'Mes', 'Mes_1', 'Mes_2', 'Mes_3', 'Mes_4', 'Mes_5', 'Mes_6', 'Mes_7', 'Mes_8', 'Mes_9', 'Mes_10', 'Mes_11', 'Mes_12', \n",
    "                          'SalarioMin','DiaSemana', 'DiaSemana_0', 'DiaSemana_1', 'DiaSemana_2', 'DiaSemana_3', 'DiaSemana_4', 'DiaSemana_5', 'DiaSemana_6',\n",
    "                          'SO','SX','MANUAL','HORÁRIO INÍCIO','HORÁRIO FINAL'],axis=1)\n",
    "df_resto = df_org[['MATRÍCULA', 'Mes', 'Mes_1', 'Mes_2', 'Mes_3', 'Mes_4', 'Mes_5', 'Mes_6', 'Mes_7', 'Mes_8', 'Mes_9', 'Mes_10', 'Mes_11', 'Mes_12', \n",
    "                          'SalarioMin','DiaSemana', 'DiaSemana_0', 'DiaSemana_1', 'DiaSemana_2', 'DiaSemana_3', 'DiaSemana_4', 'DiaSemana_5', 'DiaSemana_6',\n",
    "                          'SO','SX','MANUAL','HORÁRIO INÍCIO','HORÁRIO FINAL']]\n",
    "df_cluster.info()"
   ]
  },
  {
   "cell_type": "code",
   "execution_count": 4,
   "metadata": {},
   "outputs": [],
   "source": [
    "X = MinMaxScaler().fit_transform(df_cluster)"
   ]
  },
  {
   "cell_type": "code",
   "execution_count": 5,
   "metadata": {},
   "outputs": [
    {
     "name": "stderr",
     "output_type": "stream",
     "text": [
      "100%|████████████████████████████████████████████████████████████████████████████████████| 8/8 [01:39<00:00, 12.44s/it]\n"
     ]
    }
   ],
   "source": [
    "scores = []\n",
    "inertias =[]\n",
    "for i in tqdm( range(2, 10)):\n",
    "    kmeans = KMeans(n_clusters = i, max_iter=100, random_state = 42).fit(X)    \n",
    "    #soma dos quadrados intra-clusters de cada cluster\n",
    "    inertias.append(kmeans.inertia_)\n",
    "    scores.append(silhouette_score(df_cluster.values, kmeans.labels_, random_state = 42))"
   ]
  },
  {
   "cell_type": "code",
   "execution_count": 6,
   "metadata": {},
   "outputs": [
    {
     "data": {
      "image/png": "[encoded data removed]",
      "text/plain": [
       "<Figure size 432x288 with 1 Axes>"
      ]
     },
     "metadata": {
      "needs_background": "light"
     },
     "output_type": "display_data"
    }
   ],
   "source": [
    "plt.figure(2)\n",
    "plt.bar(range(2, 10), scores,  align='center', alpha=0.5)\n",
    "plt.title('O Metodo Silhouette Score')\n",
    "plt.xlabel('No de clusters')\n",
    "plt.ylabel('score')\n",
    "plt.show()"
   ]
  },
  {
   "cell_type": "code",
   "execution_count": 7,
   "metadata": {},
   "outputs": [
    {
     "data": {
      "text/plain": [
       "0.1258039116770407"
      ]
     },
     "execution_count": 7,
     "metadata": {},
     "output_type": "execute_result"
    }
   ],
   "source": [
    "bestKmeans = KMeans(n_clusters = 2, max_iter=100, random_state = 42).fit(X)\n",
    "labels = bestKmeans.labels_ \n",
    "sm.silhouette_score(df_cluster.values, bestKmeans.labels_, random_state = 42)"
   ]
  },
  {
   "cell_type": "code",
   "execution_count": 8,
   "metadata": {},
   "outputs": [
    {
     "data": {
      "text/plain": [
       "[<matplotlib.lines.Line2D at 0x22550101ec8>]"
      ]
     },
     "execution_count": 8,
     "metadata": {},
     "output_type": "execute_result"
    },
    {
     "data": {
      "image/png": "[encoded data removed]",
      "text/plain": [
       "<Figure size 432x288 with 1 Axes>"
      ]
     },
     "metadata": {
      "needs_background": "light"
     },
     "output_type": "display_data"
    }
   ],
   "source": [
    "#Selecionando o melhor valor para o eps\n",
    "neigh = NearestNeighbors(n_neighbors=3)\n",
    "nbrs = neigh.fit(X)\n",
    "distances, indices = nbrs.kneighbors(X)\n",
    "\n",
    "distances = np.sort(distances, axis=0)\n",
    "distances = distances[:,1]\n",
    "plt.plot(distances)"
   ]
  },
  {
   "cell_type": "code",
   "execution_count": null,
   "metadata": {},
   "outputs": [
    {
     "name": "stderr",
     "output_type": "stream",
     "text": [
      "100%|████████████████████████████████████████████████████████████████████████████████████| 3/3 [03:10<00:00, 63.62s/it]\n"
     ]
    },
    {
     "name": "stdout",
     "output_type": "stream",
     "text": [
      "Valor ideal para min_samples: 8\n",
      "Valor ideal para EPS: 0.400\n",
      "Número estimado de Clusters: 36\n",
      "Número estimado de ruídos: 39\n"
     ]
    }
   ],
   "source": [
    "# Estimativa retirada após a análise de cotovelo\n",
    "melhor_eps = 0\n",
    "silhouette_score = 0\n",
    "\n",
    "# Min Sample > 2 para não formar um cluster com único ponto\n",
    "estimativa_min_sample = 0\n",
    "\n",
    "# Numero de Clusters\n",
    "n_clusters_ = 0\n",
    "\n",
    "# Numero de Ruido\n",
    "n_noise_ = 0\n",
    "\n",
    "# Descobrir o melhor valor mínimo de Samples\n",
    "for eps in tqdm([0.3,0.35,0.4]):\n",
    "    for x_sample in range(7,9):\n",
    "        db = DBSCAN(eps=eps, min_samples=x_sample).fit(X)\n",
    "        labels = db.labels_\n",
    "        if silhouette_score <= sm.silhouette_score(X, labels):\n",
    "            silhouette_score = sm.silhouette_score(X, labels)\n",
    "            estimativa_min_sample = x_sample\n",
    "            melhor_eps = eps\n",
    "            # Numero de Clusters\n",
    "            n_clusters_ = len(set(labels)) - (1 if -1 in labels else 0)\n",
    "            # Numero de Ruido\n",
    "            n_noise_ = list(labels).count(-1)\n",
    "\n",
    "db = DBSCAN(eps=melhor_eps, min_samples=estimativa_min_sample).fit(X)\n",
    "labels = db.labels_\n",
    "\n",
    "print('Valor ideal para min_samples: %d' % estimativa_min_sample)\n",
    "print('Valor ideal para EPS: %0.3f' % melhor_eps)\n",
    "print('Número estimado de Clusters: %d' % n_clusters_)\n",
    "print('Número estimado de ruídos: %d' % n_noise_)\n",
    "print('Silhouette Score: %0.3f' % sm.silhouette_score(X, labels))\n",
    "print(set(labels))"
   ]
  },
  {
   "cell_type": "code",
   "execution_count": null,
   "metadata": {},
   "outputs": [],
   "source": [
    "df_cluster['cluster'] = db.labels_\n",
    "df_cluster.head()"
   ]
  },
  {
   "cell_type": "code",
   "execution_count": null,
   "metadata": {},
   "outputs": [],
   "source": [
    "df_cluster.groupby('cluster')['ATRASO'].count().sort_values(ascending=False)"
   ]
  },
  {
   "cell_type": "code",
   "execution_count": null,
   "metadata": {},
   "outputs": [],
   "source": [
    "df = df_resto.merge(df_cluster,how = 'inner', right_index=True, left_index=True)\n",
    "df.info()"
   ]
  },
  {
   "cell_type": "code",
   "execution_count": null,
   "metadata": {},
   "outputs": [],
   "source": [
    "df.to_csv(r'BD Tratado\\cluster.csv',sep=';',index=False)"
   ]
  }
 ],
 "metadata": {
  "kernelspec": {
   "display_name": "Python 3",
   "language": "python",
   "name": "python3"
  },
  "language_info": {
   "codemirror_mode": {
    "name": "ipython",
    "version": 3
   },
   "file_extension": ".py",
   "mimetype": "text/x-python",
   "name": "python",
   "nbconvert_exporter": "python",
   "pygments_lexer": "ipython3",
   "version": "3.7.9"
  }
 },
 "nbformat": 4,
 "nbformat_minor": 4
}
