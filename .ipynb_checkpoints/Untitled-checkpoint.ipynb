{
 "cells": [
  {
   "cell_type": "code",
   "execution_count": 1,
   "metadata": {},
   "outputs": [],
   "source": [
    "import pandas as pd"
   ]
  },
  {
   "cell_type": "code",
   "execution_count": 2,
   "metadata": {},
   "outputs": [
    {
     "name": "stdout",
     "output_type": "stream",
     "text": [
      "<class 'pandas.core.frame.DataFrame'>\n",
      "RangeIndex: 100608 entries, 0 to 100607\n",
      "Data columns (total 23 columns):\n",
      " #   Column            Non-Null Count   Dtype  \n",
      "---  ------            --------------   -----  \n",
      " 0   MATRÍCULA         100608 non-null  int64  \n",
      " 1   DATA              100608 non-null  object \n",
      " 2   ATRASO            100608 non-null  float64\n",
      " 3   Jornada - 5x2     2778 non-null    float64\n",
      " 4   Jornada - 6x1     2778 non-null    float64\n",
      " 5   Jornada - 12x36   2778 non-null    float64\n",
      " 6   Jornada - movel   2778 non-null    float64\n",
      " 7   Jornada - fixo    2778 non-null    float64\n",
      " 8   CRG. HOR. DIA     31764 non-null   object \n",
      " 9   NOTURNO           50660 non-null   float64\n",
      " 10  NÚM. VIAGENS DIA  75506 non-null   float64\n",
      " 11  VALOR POR VIAGEM  75506 non-null   float64\n",
      " 12  Tempo de casa     100608 non-null  float64\n",
      " 13  SALÁRIO           100608 non-null  float64\n",
      " 14  SO                90067 non-null   float64\n",
      " 15  SX                90067 non-null   float64\n",
      " 16  ADMISSÃO          60 non-null      object \n",
      " 17  CARGO             60 non-null      object \n",
      " 18  DEMISSÃO          60 non-null      object \n",
      " 19  Tipo de Rescisão  60 non-null      object \n",
      " 20  Ativo             100608 non-null  int64  \n",
      " 21  MANUAL            100608 non-null  float64\n",
      " 22  dist              63956 non-null   float64\n",
      "dtypes: float64(15), int64(2), object(6)\n",
      "memory usage: 17.7+ MB\n"
     ]
    },
    {
     "name": "stderr",
     "output_type": "stream",
     "text": [
      "C:\\Users\\gabri\\anaconda3\\envs\\faculdade\\lib\\site-packages\\IPython\\core\\interactiveshell.py:3147: DtypeWarning: Columns (16,17,18,19) have mixed types.Specify dtype option on import or set low_memory=False.\n",
      "  interactivity=interactivity, compiler=compiler, result=result)\n"
     ]
    }
   ],
   "source": [
    "df = pd.read_csv(r'BD Tratado\\baseFim.csv',sep=';')\n",
    "df.info()"
   ]
  },
  {
   "cell_type": "code",
   "execution_count": 3,
   "metadata": {},
   "outputs": [
    {
     "name": "stdout",
     "output_type": "stream",
     "text": [
      "<class 'pandas.core.frame.DataFrame'>\n",
      "RangeIndex: 100608 entries, 0 to 100607\n",
      "Data columns (total 14 columns):\n",
      " #   Column            Non-Null Count   Dtype  \n",
      "---  ------            --------------   -----  \n",
      " 0   MATRÍCULA         100608 non-null  int64  \n",
      " 1   DATA              100608 non-null  object \n",
      " 2   ATRASO            100608 non-null  float64\n",
      " 3   CRG. HOR. DIA     31764 non-null   object \n",
      " 4   NOTURNO           50660 non-null   float64\n",
      " 5   NÚM. VIAGENS DIA  75506 non-null   float64\n",
      " 6   VALOR POR VIAGEM  75506 non-null   float64\n",
      " 7   Tempo de casa     100608 non-null  float64\n",
      " 8   SALÁRIO           100608 non-null  float64\n",
      " 9   SO                90067 non-null   float64\n",
      " 10  SX                90067 non-null   float64\n",
      " 11  Ativo             100608 non-null  int64  \n",
      " 12  MANUAL            100608 non-null  float64\n",
      " 13  dist              63956 non-null   float64\n",
      "dtypes: float64(10), int64(2), object(2)\n",
      "memory usage: 10.7+ MB\n"
     ]
    }
   ],
   "source": [
    "# base com muitos nulos.\n",
    "# Retirar as variáveis Jornada e Demissão\n",
    "\n",
    "df = df.drop(['Jornada - movel','Jornada - fixo','Jornada - 5x2','Jornada - 6x1','Jornada - 12x36','ADMISSÃO','CARGO','DEMISSÃO','Tipo de Rescisão'],axis=1)\n",
    "df.info()"
   ]
  },
  {
   "cell_type": "code",
   "execution_count": null,
   "metadata": {},
   "outputs": [],
   "source": []
  }
 ],
 "metadata": {
  "kernelspec": {
   "display_name": "Python 3",
   "language": "python",
   "name": "python3"
  },
  "language_info": {
   "codemirror_mode": {
    "name": "ipython",
    "version": 3
   },
   "file_extension": ".py",
   "mimetype": "text/x-python",
   "name": "python",
   "nbconvert_exporter": "python",
   "pygments_lexer": "ipython3",
   "version": "3.7.9"
  }
 },
 "nbformat": 4,
 "nbformat_minor": 4
}
