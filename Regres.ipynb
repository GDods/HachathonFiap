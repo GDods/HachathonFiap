{
 "cells": [
  {
   "cell_type": "code",
   "execution_count": 66,
   "metadata": {},
   "outputs": [],
   "source": [
    "import pandas as pd\n",
    "import numpy as np\n",
    "\n",
    "import matplotlib.pyplot as plt\n",
    "import seaborn as sns\n",
    "\n",
    "import math\n",
    "\n",
    "import sklearn.metrics as sm\n",
    "\n",
    "from sklearn.decomposition import PCA\n",
    "from sklearn.preprocessing import MinMaxScaler, StandardScaler\n",
    "from sklearn.cluster import KMeans, DBSCAN\n",
    "from sklearn.metrics import silhouette_score\n",
    "from sklearn.neighbors import NearestNeighbors\n",
    "from sklearn.tree import DecisionTreeClassifier\n",
    "from sklearn.model_selection import train_test_split\n",
    "from sklearn.neighbors import KNeighborsClassifier\n",
    "from sklearn.metrics import classification_report, plot_confusion_matrix,accuracy_score\n",
    "from sklearn.metrics import confusion_matrix\n",
    "\n",
    "from sklearn.svm import SVC\n",
    "from sklearn.model_selection import GridSearchCV\n",
    "\n",
    "from sklearn.ensemble import RandomForestRegressor, RandomForestClassifier\n",
    "\n",
    "from tqdm import tqdm\n",
    "\n",
    "from sklearn.model_selection import KFold\n",
    "from sklearn.model_selection import cross_val_score\n",
    "from sklearn.linear_model import LinearRegression\n",
    "from sklearn.linear_model import Ridge\n",
    "from sklearn.linear_model import Lasso\n",
    "from sklearn.linear_model import ElasticNet\n",
    "from sklearn.tree import DecisionTreeRegressor\n",
    "from sklearn.neighbors import KNeighborsRegressor\n",
    "from sklearn.ensemble import RandomForestRegressor\n",
    "from sklearn.ensemble import AdaBoostRegressor\n",
    "from sklearn import metrics\n",
    "from sklearn.svm import SVR\n",
    "from sklearn.pipeline import Pipeline"
   ]
  },
  {
   "cell_type": "code",
   "execution_count": 41,
   "metadata": {},
   "outputs": [
    {
     "name": "stdout",
     "output_type": "stream",
     "text": [
      "<class 'pandas.core.frame.DataFrame'>\n",
      "RangeIndex: 35862 entries, 0 to 35861\n",
      "Data columns (total 2 columns):\n",
      " #   Column     Non-Null Count  Dtype\n",
      "---  ------     --------------  -----\n",
      " 0   MATRÍCULA  35862 non-null  int64\n",
      " 1   cluster    35862 non-null  int64\n",
      "dtypes: int64(2)\n",
      "memory usage: 560.5 KB\n"
     ]
    }
   ],
   "source": [
    "df_cluster = pd.read_csv(r'BD Tratado\\cluster.csv',sep=';')\n",
    "df_cluster = df_cluster[['MATRÍCULA', 'cluster']]\n",
    "df_cluster.info()"
   ]
  },
  {
   "cell_type": "code",
   "execution_count": 63,
   "metadata": {},
   "outputs": [
    {
     "data": {
      "text/plain": [
       "(9092, 16)"
      ]
     },
     "execution_count": 63,
     "metadata": {},
     "output_type": "execute_result"
    }
   ],
   "source": [
    "df_func = pd.read_excel(r'BD\\Dados Vivante Funcionários.xlsx',sheet_name='DADOS FUNCIONAIS')\n",
    "df_func = df_func.merge(df_cluster, how = 'left', on = 'MATRÍCULA')\n",
    "df_func = df_func[df_func['cluster'] == 1]\n",
    "df_func.shape"
   ]
  },
  {
   "cell_type": "code",
   "execution_count": 42,
   "metadata": {},
   "outputs": [
    {
     "name": "stdout",
     "output_type": "stream",
     "text": [
      "<class 'pandas.core.frame.DataFrame'>\n",
      "RangeIndex: 35862 entries, 0 to 35861\n",
      "Data columns (total 53 columns):\n",
      " #   Column                    Non-Null Count  Dtype  \n",
      "---  ------                    --------------  -----  \n",
      " 0   MATRÍCULA                 35862 non-null  int64  \n",
      " 1   ATRASO                    35862 non-null  float64\n",
      " 2   Carga                     35862 non-null  float64\n",
      " 3   Tempo de casa             35862 non-null  float64\n",
      " 4   SALÁRIO                   35862 non-null  float64\n",
      " 5   SO                        35862 non-null  float64\n",
      " 6   SX                        35862 non-null  float64\n",
      " 7   MANUAL                    35862 non-null  float64\n",
      " 8   dist                      35862 non-null  float64\n",
      " 9   HORÁRIO INÍCIO            35862 non-null  float64\n",
      " 10  HORÁRIO FINAL             35862 non-null  float64\n",
      " 11  DiaSemana                 35862 non-null  int64  \n",
      " 12  DiaSemana_0               35862 non-null  int64  \n",
      " 13  DiaSemana_1               35862 non-null  int64  \n",
      " 14  DiaSemana_2               35862 non-null  int64  \n",
      " 15  DiaSemana_3               35862 non-null  int64  \n",
      " 16  DiaSemana_4               35862 non-null  int64  \n",
      " 17  DiaSemana_5               35862 non-null  int64  \n",
      " 18  DiaSemana_6               35862 non-null  int64  \n",
      " 19  Mes                       35862 non-null  int64  \n",
      " 20  Mes_1                     35862 non-null  int64  \n",
      " 21  Mes_2                     35862 non-null  int64  \n",
      " 22  Mes_3                     35862 non-null  int64  \n",
      " 23  Mes_4                     35862 non-null  int64  \n",
      " 24  Mes_5                     35862 non-null  int64  \n",
      " 25  Mes_6                     35862 non-null  int64  \n",
      " 26  Mes_7                     35862 non-null  int64  \n",
      " 27  Mes_8                     35862 non-null  int64  \n",
      " 28  Mes_9                     35862 non-null  int64  \n",
      " 29  Mes_10                    35862 non-null  int64  \n",
      " 30  Mes_11                    35862 non-null  int64  \n",
      " 31  Mes_12                    35862 non-null  int64  \n",
      " 32  SalarioMin                35862 non-null  float64\n",
      " 33  SINDICATO_SCABEL          35862 non-null  int64  \n",
      " 34  SINDICATO_SEACONS         35862 non-null  int64  \n",
      " 35  SINDICATO_SEEAC           35862 non-null  int64  \n",
      " 36  SINDICATO_SEMAPI          35862 non-null  int64  \n",
      " 37  SINDICATO_SIEMACO         35862 non-null  int64  \n",
      " 38  SINDICATO_SIEMACO         35862 non-null  int64  \n",
      " 39  SINDICATO_SINDA           35862 non-null  int64  \n",
      " 40  SINDICATO_SINDEAC         35862 non-null  int64  \n",
      " 41  SINDICATO_SINDEEPRES      35862 non-null  int64  \n",
      " 42  SINDICATO_SINDIASSEIO     35862 non-null  int64  \n",
      " 43  SINDICATO_SINDIBOMBEIROS  35862 non-null  int64  \n",
      " 44  SINDICATO_SINDICOVI       35862 non-null  int64  \n",
      " 45  SINDICATO_SINDILIMP       35862 non-null  int64  \n",
      " 46  SINDICATO_SINDISERVICOS   35862 non-null  int64  \n",
      " 47  SINDICATO_SINEEPRES       35862 non-null  int64  \n",
      " 48  SINDICATO_SINETH          35862 non-null  int64  \n",
      " 49  SINDICATO_SINETUR         35862 non-null  int64  \n",
      " 50  SINDICATO_SINTACLUNS      35862 non-null  int64  \n",
      " 51  SINDICATO_SINTE           35862 non-null  int64  \n",
      " 52  SINDICATO_SITRAM          35862 non-null  int64  \n",
      "dtypes: float64(11), int64(42)\n",
      "memory usage: 14.5 MB\n"
     ]
    }
   ],
   "source": [
    "df_org = pd.read_csv(r'BD Tratado\\VariaveisValidadas.csv',sep=';')\n",
    "df_org.info()"
   ]
  },
  {
   "cell_type": "code",
   "execution_count": 43,
   "metadata": {},
   "outputs": [
    {
     "name": "stdout",
     "output_type": "stream",
     "text": [
      "<class 'pandas.core.frame.DataFrame'>\n",
      "Int64Index: 8912 entries, 5329 to 2387493\n",
      "Data columns (total 54 columns):\n",
      " #   Column                    Non-Null Count  Dtype  \n",
      "---  ------                    --------------  -----  \n",
      " 0   MATRÍCULA                 8912 non-null   int64  \n",
      " 1   cluster                   8912 non-null   int64  \n",
      " 2   ATRASO                    8912 non-null   float64\n",
      " 3   Carga                     8912 non-null   float64\n",
      " 4   Tempo de casa             8912 non-null   float64\n",
      " 5   SALÁRIO                   8912 non-null   float64\n",
      " 6   SO                        8912 non-null   float64\n",
      " 7   SX                        8912 non-null   float64\n",
      " 8   MANUAL                    8912 non-null   float64\n",
      " 9   dist                      8912 non-null   float64\n",
      " 10  HORÁRIO INÍCIO            8912 non-null   float64\n",
      " 11  HORÁRIO FINAL             8912 non-null   float64\n",
      " 12  DiaSemana                 8912 non-null   int64  \n",
      " 13  DiaSemana_0               8912 non-null   int64  \n",
      " 14  DiaSemana_1               8912 non-null   int64  \n",
      " 15  DiaSemana_2               8912 non-null   int64  \n",
      " 16  DiaSemana_3               8912 non-null   int64  \n",
      " 17  DiaSemana_4               8912 non-null   int64  \n",
      " 18  DiaSemana_5               8912 non-null   int64  \n",
      " 19  DiaSemana_6               8912 non-null   int64  \n",
      " 20  Mes                       8912 non-null   int64  \n",
      " 21  Mes_1                     8912 non-null   int64  \n",
      " 22  Mes_2                     8912 non-null   int64  \n",
      " 23  Mes_3                     8912 non-null   int64  \n",
      " 24  Mes_4                     8912 non-null   int64  \n",
      " 25  Mes_5                     8912 non-null   int64  \n",
      " 26  Mes_6                     8912 non-null   int64  \n",
      " 27  Mes_7                     8912 non-null   int64  \n",
      " 28  Mes_8                     8912 non-null   int64  \n",
      " 29  Mes_9                     8912 non-null   int64  \n",
      " 30  Mes_10                    8912 non-null   int64  \n",
      " 31  Mes_11                    8912 non-null   int64  \n",
      " 32  Mes_12                    8912 non-null   int64  \n",
      " 33  SalarioMin                8912 non-null   float64\n",
      " 34  SINDICATO_SCABEL          8912 non-null   int64  \n",
      " 35  SINDICATO_SEACONS         8912 non-null   int64  \n",
      " 36  SINDICATO_SEEAC           8912 non-null   int64  \n",
      " 37  SINDICATO_SEMAPI          8912 non-null   int64  \n",
      " 38  SINDICATO_SIEMACO         8912 non-null   int64  \n",
      " 39  SINDICATO_SIEMACO         8912 non-null   int64  \n",
      " 40  SINDICATO_SINDA           8912 non-null   int64  \n",
      " 41  SINDICATO_SINDEAC         8912 non-null   int64  \n",
      " 42  SINDICATO_SINDEEPRES      8912 non-null   int64  \n",
      " 43  SINDICATO_SINDIASSEIO     8912 non-null   int64  \n",
      " 44  SINDICATO_SINDIBOMBEIROS  8912 non-null   int64  \n",
      " 45  SINDICATO_SINDICOVI       8912 non-null   int64  \n",
      " 46  SINDICATO_SINDILIMP       8912 non-null   int64  \n",
      " 47  SINDICATO_SINDISERVICOS   8912 non-null   int64  \n",
      " 48  SINDICATO_SINEEPRES       8912 non-null   int64  \n",
      " 49  SINDICATO_SINETH          8912 non-null   int64  \n",
      " 50  SINDICATO_SINETUR         8912 non-null   int64  \n",
      " 51  SINDICATO_SINTACLUNS      8912 non-null   int64  \n",
      " 52  SINDICATO_SINTE           8912 non-null   int64  \n",
      " 53  SINDICATO_SITRAM          8912 non-null   int64  \n",
      "dtypes: float64(11), int64(43)\n",
      "memory usage: 3.7 MB\n"
     ]
    }
   ],
   "source": [
    "df = df_cluster.merge(df_org, how = 'left', on='MATRÍCULA')\n",
    "df = df.drop_duplicates()\n",
    "df = df[df['cluster']==1]\n",
    "df.info()"
   ]
  },
  {
   "cell_type": "code",
   "execution_count": 44,
   "metadata": {},
   "outputs": [
    {
     "name": "stdout",
     "output_type": "stream",
     "text": [
      "<class 'pandas.core.frame.DataFrame'>\n",
      "Int64Index: 8912 entries, 5329 to 2387493\n",
      "Data columns (total 29 columns):\n",
      " #   Column          Non-Null Count  Dtype  \n",
      "---  ------          --------------  -----  \n",
      " 0   ATRASO          8912 non-null   float64\n",
      " 1   Carga           8912 non-null   float64\n",
      " 2   Tempo de casa   8912 non-null   float64\n",
      " 3   SALÁRIO         8912 non-null   float64\n",
      " 4   SO              8912 non-null   float64\n",
      " 5   SX              8912 non-null   float64\n",
      " 6   MANUAL          8912 non-null   float64\n",
      " 7   dist            8912 non-null   float64\n",
      " 8   HORÁRIO INÍCIO  8912 non-null   float64\n",
      " 9   HORÁRIO FINAL   8912 non-null   float64\n",
      " 10  DiaSemana_0     8912 non-null   int64  \n",
      " 11  DiaSemana_1     8912 non-null   int64  \n",
      " 12  DiaSemana_2     8912 non-null   int64  \n",
      " 13  DiaSemana_3     8912 non-null   int64  \n",
      " 14  DiaSemana_4     8912 non-null   int64  \n",
      " 15  DiaSemana_5     8912 non-null   int64  \n",
      " 16  DiaSemana_6     8912 non-null   int64  \n",
      " 17  Mes_1           8912 non-null   int64  \n",
      " 18  Mes_2           8912 non-null   int64  \n",
      " 19  Mes_3           8912 non-null   int64  \n",
      " 20  Mes_4           8912 non-null   int64  \n",
      " 21  Mes_5           8912 non-null   int64  \n",
      " 22  Mes_6           8912 non-null   int64  \n",
      " 23  Mes_7           8912 non-null   int64  \n",
      " 24  Mes_8           8912 non-null   int64  \n",
      " 25  Mes_9           8912 non-null   int64  \n",
      " 26  Mes_10          8912 non-null   int64  \n",
      " 27  Mes_11          8912 non-null   int64  \n",
      " 28  Mes_12          8912 non-null   int64  \n",
      "dtypes: float64(10), int64(19)\n",
      "memory usage: 2.0 MB\n"
     ]
    }
   ],
   "source": [
    "df = df.drop(['MATRÍCULA','Mes','SalarioMin','DiaSemana','cluster'],axis=1)\n",
    "for col in df.columns:\n",
    "    if 'SINDICATO' in col:\n",
    "        df = df.drop(col,axis=1)\n",
    "\n",
    "df.info()"
   ]
  },
  {
   "cell_type": "code",
   "execution_count": 45,
   "metadata": {},
   "outputs": [
    {
     "data": {
      "text/plain": [
       "HORÁRIO INÍCIO   -0.163503\n",
       "DiaSemana_6      -0.074658\n",
       "dist             -0.048316\n",
       "Mes_4            -0.036630\n",
       "Mes_5            -0.035465\n",
       "Mes_6            -0.031094\n",
       "Mes_12           -0.029044\n",
       "SX               -0.022719\n",
       "Mes_9            -0.018266\n",
       "DiaSemana_5      -0.011231\n",
       "DiaSemana_1       0.000500\n",
       "Mes_1             0.002055\n",
       "DiaSemana_4       0.007106\n",
       "DiaSemana_2       0.009476\n",
       "DiaSemana_3       0.010833\n",
       "Mes_10            0.012577\n",
       "Mes_8             0.015354\n",
       "DiaSemana_0       0.017278\n",
       "Mes_7             0.021334\n",
       "Mes_3             0.023930\n",
       "Mes_11            0.027057\n",
       "Mes_2             0.027698\n",
       "SO                0.050964\n",
       "Carga             0.118107\n",
       "MANUAL            0.120386\n",
       "HORÁRIO FINAL     0.154654\n",
       "Tempo de casa     0.157460\n",
       "SALÁRIO           0.180348\n",
       "ATRASO            1.000000\n",
       "Name: ATRASO, dtype: float64"
      ]
     },
     "execution_count": 45,
     "metadata": {},
     "output_type": "execute_result"
    }
   ],
   "source": [
    "df.corr()['ATRASO'].sort_values()"
   ]
  },
  {
   "cell_type": "code",
   "execution_count": 46,
   "metadata": {},
   "outputs": [
    {
     "name": "stdout",
     "output_type": "stream",
     "text": [
      "<class 'pandas.core.frame.DataFrame'>\n",
      "Int64Index: 8912 entries, 5329 to 2387493\n",
      "Data columns (total 9 columns):\n",
      " #   Column          Non-Null Count  Dtype  \n",
      "---  ------          --------------  -----  \n",
      " 0   SALÁRIO         8912 non-null   float64\n",
      " 1   Tempo de casa   8912 non-null   float64\n",
      " 2   MANUAL          8912 non-null   float64\n",
      " 3   Mes_4           8912 non-null   int64  \n",
      " 4   DiaSemana_6     8912 non-null   int64  \n",
      " 5   Carga           8912 non-null   float64\n",
      " 6   dist            8912 non-null   float64\n",
      " 7   HORÁRIO INÍCIO  8912 non-null   float64\n",
      " 8   ATRASO          8912 non-null   float64\n",
      "dtypes: float64(7), int64(2)\n",
      "memory usage: 696.2 KB\n"
     ]
    }
   ],
   "source": [
    "df = df[['SALÁRIO', 'Tempo de casa', 'MANUAL', 'Mes_4', 'DiaSemana_6', 'Carga','dist', 'HORÁRIO INÍCIO', 'ATRASO']]\n",
    "df.info()"
   ]
  },
  {
   "cell_type": "code",
   "execution_count": 47,
   "metadata": {},
   "outputs": [
    {
     "name": "stdout",
     "output_type": "stream",
     "text": [
      "(8912, 8)\n",
      "(8912,)\n"
     ]
    }
   ],
   "source": [
    "X = df.drop('ATRASO',axis=1)\n",
    "y = df.iloc[:,8].values\n",
    "print(X.shape)\n",
    "print(y.shape)"
   ]
  },
  {
   "cell_type": "code",
   "execution_count": 48,
   "metadata": {},
   "outputs": [],
   "source": [
    "X_train, X_test, y_train, y_test = train_test_split(X, y, test_size = .3, random_state=42)"
   ]
  },
  {
   "cell_type": "code",
   "execution_count": 49,
   "metadata": {},
   "outputs": [],
   "source": [
    "pipelines = []\n",
    "pipelines.append(('LR', Pipeline([('Scaler', StandardScaler()),('LR', LinearRegression())])))\n",
    "pipelines.append(('RD', Pipeline([('Scaler', StandardScaler()),('RD', Ridge())])))\n",
    "pipelines.append(('LS', Pipeline([('Scaler', StandardScaler()),('LS', Lasso())])))\n",
    "pipelines.append(('EL', Pipeline([('Scaler', StandardScaler()),('EL', ElasticNet())])))\n",
    "pipelines.append(('KNN', Pipeline([('Scaler', StandardScaler()),('KNN', KNeighborsRegressor(metric = 'manhattan', n_neighbors = 7, weights = 'distance'))])))\n",
    "pipelines.append(('DTR', Pipeline([('Scaler', StandardScaler()),('DTR', DecisionTreeRegressor(max_leaf_nodes = 29, min_samples_split = 2))])))\n",
    "pipelines.append(('RF', Pipeline([('Scaler', StandardScaler()),('RF', RandomForestRegressor())])))\n",
    "pipelines.append(('ADA', Pipeline([('Scaler', StandardScaler()),('ADA', AdaBoostRegressor())])))\n",
    "pipelines.append(('SVR', Pipeline([('Scaler', StandardScaler()),('SVR', SVR())])))\n",
    "pipelines.append(('SVR-RBF', Pipeline([('Scaler', StandardScaler()),('SVR', SVR(kernel='rbf', C=1, gamma=1))])))\n",
    "\n",
    "results = []\n",
    "names = []\n"
   ]
  },
  {
   "cell_type": "code",
   "execution_count": 50,
   "metadata": {},
   "outputs": [
    {
     "name": "stdout",
     "output_type": "stream",
     "text": [
      "LR: -978.583768 (48.377110)\n",
      "RD: -978.583046 (48.375448)\n",
      "LS: -984.385759 (47.228264)\n",
      "EL: -987.402978 (46.665234)\n",
      "KNN: -642.938248 (69.960114)\n",
      "DTR: -690.913486 (53.354369)\n",
      "RF: -579.622163 (62.063937)\n",
      "ADA: -892.090110 (46.951583)\n",
      "SVR: -904.174165 (64.977841)\n",
      "SVR-RBF: -800.711061 (67.919159)\n"
     ]
    }
   ],
   "source": [
    "# Avaliação dos Pipelines\n",
    "num_folds = 10\n",
    "RMS = 'neg_mean_squared_error'\n",
    "\n",
    "for name, model in pipelines:\n",
    "    kfold = KFold(n_splits=num_folds, random_state=25, shuffle = True)\n",
    "    cv_results = cross_val_score(model, X_train, y_train, cv=kfold, scoring=RMS)\n",
    "    results.append(cv_results)\n",
    "    names.append(name)\n",
    "    msg = \"%s: %f (%f)\" % (name, cv_results.mean(), cv_results.std())\n",
    "    print(msg)"
   ]
  },
  {
   "cell_type": "code",
   "execution_count": 51,
   "metadata": {},
   "outputs": [
    {
     "data": {
      "image/png": "[encoded data removed]",
      "text/plain": [
       "<Figure size 1440x720 with 1 Axes>"
      ]
     },
     "metadata": {
      "needs_background": "light"
     },
     "output_type": "display_data"
    }
   ],
   "source": [
    "# Comparando os Algorítimos\n",
    "fig = plt.figure(figsize=(20, 10))\n",
    "fig.suptitle('Scaled Algorithm Comparison')\n",
    "ax = fig.add_subplot(111)\n",
    "plt.boxplot(results)\n",
    "ax.set_xticklabels(names)\n",
    "plt.show()\n"
   ]
  },
  {
   "cell_type": "code",
   "execution_count": 52,
   "metadata": {},
   "outputs": [],
   "source": [
    "rf = RandomForestRegressor()"
   ]
  },
  {
   "cell_type": "code",
   "execution_count": 53,
   "metadata": {},
   "outputs": [
    {
     "data": {
      "text/plain": [
       "RandomForestRegressor()"
      ]
     },
     "execution_count": 53,
     "metadata": {},
     "output_type": "execute_result"
    }
   ],
   "source": [
    "scaler = StandardScaler().fit(X_train)\n",
    "rescaledX = scaler.transform(X_train)\n",
    "rf.fit(rescaledX, y_train)"
   ]
  },
  {
   "cell_type": "code",
   "execution_count": 54,
   "metadata": {},
   "outputs": [],
   "source": [
    "rescaledTestX = scaler.transform(X_test)\n",
    "predictions = rf.predict(rescaledTestX)"
   ]
  },
  {
   "cell_type": "code",
   "execution_count": 56,
   "metadata": {},
   "outputs": [
    {
     "name": "stdout",
     "output_type": "stream",
     "text": [
      "15.609116309764156\n",
      "556.8039811466815\n",
      "23.596694284299264\n"
     ]
    }
   ],
   "source": [
    "#MAE\n",
    "print(metrics.mean_absolute_error(y_test, predictions))\n",
    "#MSE\n",
    "mse = metrics.mean_squared_error(y_test, predictions)\n",
    "print(mse)\n",
    "#RMSE\n",
    "rmse = math.sqrt(mse)\n",
    "print(rmse)"
   ]
  },
  {
   "cell_type": "code",
   "execution_count": 57,
   "metadata": {},
   "outputs": [
    {
     "data": {
      "text/plain": [
       "<matplotlib.axes._subplots.AxesSubplot at 0x240885c0a88>"
      ]
     },
     "execution_count": 57,
     "metadata": {},
     "output_type": "execute_result"
    },
    {
     "data": {
      "image/png": "[encoded data removed]",
      "text/plain": [
       "<Figure size 1440x720 with 1 Axes>"
      ]
     },
     "metadata": {
      "needs_background": "light"
     },
     "output_type": "display_data"
    }
   ],
   "source": [
    "predictions=predictions.astype(int)\n",
    "erros = np.absolute( y_test - predictions)\n",
    "finalresult = pd.DataFrame({\n",
    "        \"Classe Original\": y_test,\n",
    "        \"Classe Predito\": predictions,\n",
    "        \"Erro\" : erros\n",
    "    })\n",
    "\n",
    "finalresult.head(50).plot(kind='bar',figsize=(20,10))"
   ]
  },
  {
   "cell_type": "code",
   "execution_count": null,
   "metadata": {},
   "outputs": [],
   "source": []
  }
 ],
 "metadata": {
  "kernelspec": {
   "display_name": "Python 3",
   "language": "python",
   "name": "python3"
  },
  "language_info": {
   "codemirror_mode": {
    "name": "ipython",
    "version": 3
   },
   "file_extension": ".py",
   "mimetype": "text/x-python",
   "name": "python",
   "nbconvert_exporter": "python",
   "pygments_lexer": "ipython3",
   "version": "3.7.9"
  }
 },
 "nbformat": 4,
 "nbformat_minor": 4
}
